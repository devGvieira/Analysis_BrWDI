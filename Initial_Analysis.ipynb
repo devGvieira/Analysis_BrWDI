{
 "cells": [
  {
   "cell_type": "markdown",
   "metadata": {},
   "source": [
    "# Analysis of Recent Development Indicators of Brazil\n",
    "\n",
    "The present study has been conducted merely for study related reasons, more specifically, understanding how to use Python to read, clean, operate and draw conclusions from databases.\n",
    "\n",
    "The database utilized in this work was downloaded from The World Bank's DataBank and may be found in the following link: https://databank.worldbank.org/reports.aspx?source=2&country=BRA. Note that it is also available along this notebook's file in https://github.com/devGvieira."
   ]
  },
  {
   "cell_type": "markdown",
   "metadata": {},
   "source": [
    "### Data reading, selection, cleaning and formatting\n",
    "It is worth mentioning that given this work's objective, selecting three out of sixty indicators was considered enough.\n"
   ]
  },
  {
   "cell_type": "code",
   "execution_count": 55,
   "metadata": {},
   "outputs": [
    {
     "data": {
      "text/html": [
       "<div>\n",
       "<style scoped>\n",
       "    .dataframe tbody tr th:only-of-type {\n",
       "        vertical-align: middle;\n",
       "    }\n",
       "\n",
       "    .dataframe tbody tr th {\n",
       "        vertical-align: top;\n",
       "    }\n",
       "\n",
       "    .dataframe thead th {\n",
       "        text-align: right;\n",
       "    }\n",
       "</style>\n",
       "<table border=\"1\" class=\"dataframe\">\n",
       "  <thead>\n",
       "    <tr style=\"text-align: right;\">\n",
       "      <th></th>\n",
       "      <th>6</th>\n",
       "      <th>7</th>\n",
       "      <th>8</th>\n",
       "      <th>9</th>\n",
       "      <th>10</th>\n",
       "      <th>11</th>\n",
       "      <th>12</th>\n",
       "      <th>13</th>\n",
       "      <th>14</th>\n",
       "      <th>15</th>\n",
       "    </tr>\n",
       "  </thead>\n",
       "  <tbody>\n",
       "    <tr>\n",
       "      <th>2</th>\n",
       "      <td>0.868346</td>\n",
       "      <td>0.857835</td>\n",
       "      <td>0.845993</td>\n",
       "      <td>0.811256</td>\n",
       "      <td>0.792263</td>\n",
       "      <td>0.793768</td>\n",
       "      <td>0.766108</td>\n",
       "      <td>0.665177</td>\n",
       "      <td>0.52859</td>\n",
       "      <td>0.459584</td>\n",
       "    </tr>\n",
       "    <tr>\n",
       "      <th>4</th>\n",
       "      <td>24.134768</td>\n",
       "      <td>24.342695</td>\n",
       "      <td>24.549506</td>\n",
       "      <td>24.749475</td>\n",
       "      <td>24.946335</td>\n",
       "      <td>25.145139</td>\n",
       "      <td>25.338518</td>\n",
       "      <td>25.507625</td>\n",
       "      <td>NaN</td>\n",
       "      <td>NaN</td>\n",
       "    </tr>\n",
       "    <tr>\n",
       "      <th>6</th>\n",
       "      <td>3.700000</td>\n",
       "      <td>3.300000</td>\n",
       "      <td>3.900000</td>\n",
       "      <td>4.700000</td>\n",
       "      <td>5.300000</td>\n",
       "      <td>5.300000</td>\n",
       "      <td>5.400000</td>\n",
       "      <td>1.900000</td>\n",
       "      <td>5.80000</td>\n",
       "      <td>NaN</td>\n",
       "    </tr>\n",
       "  </tbody>\n",
       "</table>\n",
       "</div>"
      ],
      "text/plain": [
       "          6          7          8          9          10         11  \\\n",
       "2   0.868346   0.857835   0.845993   0.811256   0.792263   0.793768   \n",
       "4  24.134768  24.342695  24.549506  24.749475  24.946335  25.145139   \n",
       "6   3.700000   3.300000   3.900000   4.700000   5.300000   5.300000   \n",
       "\n",
       "          12         13       14        15  \n",
       "2   0.766108   0.665177  0.52859  0.459584  \n",
       "4  25.338518  25.507625      NaN       NaN  \n",
       "6   5.400000   1.900000  5.80000       NaN  "
      ]
     },
     "execution_count": 55,
     "metadata": {},
     "output_type": "execute_result"
    }
   ],
   "source": [
    "import pandas as pd\n",
    "import numpy as np\n",
    "from matplotlib import pyplot as plt\n",
    "\n",
    "original_df = pd.read_csv('Data.csv',header=None)\n",
    "i = (2,4,6)\n",
    "selected_df = original_df.loc[i,6:15]\n",
    "clean_df = selected_df.replace('..',np.NaN)\n",
    "df = clean_df.astype(float)\n",
    "df"
   ]
  },
  {
   "cell_type": "markdown",
   "metadata": {},
   "source": [
    "### Shaping the axes for plotting"
   ]
  },
  {
   "cell_type": "code",
   "execution_count": 56,
   "metadata": {},
   "outputs": [
    {
     "name": "stdout",
     "output_type": "stream",
     "text": [
      "(10,)\n",
      "(10,) (10,) (10,)\n"
     ]
    }
   ],
   "source": [
    "years = np.arange(2013,2023)\n",
    "\n",
    "print(np.shape(years))\n",
    "\n",
    "pg = df.loc[2,6:15]\n",
    "pd = df.loc[4,6:15]\n",
    "pv = df.loc[6,6:15]\n",
    "\n",
    "print(np.shape(pg), np.shape(pd), np.shape(pv))"
   ]
  },
  {
   "cell_type": "markdown",
   "metadata": {},
   "source": [
    "### Plotting graphs"
   ]
  },
  {
   "cell_type": "code",
   "execution_count": 57,
   "metadata": {},
   "outputs": [
    {
     "name": "stderr",
     "output_type": "stream",
     "text": [
      "/tmp/ipykernel_156872/1612170341.py:3: MatplotlibDeprecationWarning: Auto-removal of overlapping axes is deprecated since 3.6 and will be removed two minor releases later; explicitly call ax.remove() as needed.\n",
      "  plt.subplot(3,1,1)\n"
     ]
    },
    {
     "data": {
      "image/png": "[encoded data removed]",
      "text/plain": [
       "<Figure size 640x480 with 3 Axes>"
      ]
     },
     "metadata": {},
     "output_type": "display_data"
    }
   ],
   "source": [
    "plt.title('Development Indexes Through Time')\n",
    "\n",
    "plt.subplot(3,1,1)\n",
    "plt.subplots_adjust(hspace=0.75)\n",
    "plt.plot(years, pg)\n",
    "plt.ylabel('Population Growth \\n (annual %)', fontsize= 7)\n",
    "plt.xlim(2013,2022)\n",
    "plt.ylim(0.25,1)\n",
    "plt.minorticks_on()\n",
    "\n",
    "plt.subplot(3,1,2)\n",
    "plt.plot(years, pd)\n",
    "plt.ylabel('Population Density \\n (people/km² of land area)', fontsize= 7)\n",
    "plt.xlim(2013,2020)\n",
    "plt.ylim(24,26)\n",
    "plt.minorticks_on()\n",
    "\n",
    "plt.subplot(3,1, 3)\n",
    "plt.plot(years, pv)\n",
    "plt.xlabel('Years')\n",
    "plt.ylabel('Poverty \\n headcount ratio at $2.15 a day \\n (population %)', fontsize= 7)\n",
    "plt.xlim(2013,2021)\n",
    "plt.ylim(0,7.5)\n",
    "plt.minorticks_on()\n",
    "\n",
    "plt.show()"
   ]
  },
  {
   "cell_type": "markdown",
   "metadata": {},
   "source": [
    "### Calculating largest and smallest values"
   ]
  },
  {
   "cell_type": "code",
   "execution_count": 58,
   "metadata": {},
   "outputs": [
    {
     "name": "stdout",
     "output_type": "stream",
     "text": [
      "2     0.459584\n",
      "4    24.134768\n",
      "6     1.900000\n",
      "dtype: float64\n",
      "2     0.868346\n",
      "4    25.507625\n",
      "6     5.800000\n",
      "dtype: float64\n",
      "2    15\n",
      "4     6\n",
      "6    13\n",
      "dtype: int64\n",
      "2     6\n",
      "4    13\n",
      "6    14\n",
      "dtype: int64\n"
     ]
    }
   ],
   "source": [
    "min = df.min(axis =1)\n",
    "max = df.max(axis=1)\n",
    "\n",
    "print(min)\n",
    "print(max)\n",
    "\n",
    "idxmin = df.idxmin(axis=1)\n",
    "idxmax = df.idxmax(axis=1)\n",
    "\n",
    "print(idxmin)\n",
    "print(idxmax)"
   ]
  },
  {
   "cell_type": "markdown",
   "metadata": {},
   "source": [
    "### Calculating difference between the initial and final non-null values"
   ]
  },
  {
   "cell_type": "code",
   "execution_count": 59,
   "metadata": {},
   "outputs": [
    {
     "name": "stdout",
     "output_type": "stream",
     "text": [
      "-0.40876260167887396 1.3728577171475997 2.0999999999999996\n"
     ]
    }
   ],
   "source": [
    "pg_i = pg.iloc[0]\n",
    "len(pg)\n",
    "pg_f = pg.iloc[-1]\n",
    "pg_diff = pg_f - pg_i\n",
    "\n",
    "pd_i = pd.iloc[0]\n",
    "pd_f = pd.iloc[7]\n",
    "pd_diff = pd_f - pd_i\n",
    "\n",
    "pv_i = pv.iloc[0]\n",
    "pv_f = pv.iloc[8]\n",
    "pv_diff = pv_f - pv_i\n",
    "\n",
    "print(pg_diff, pd_diff, pv_diff)\n"
   ]
  },
  {
   "cell_type": "markdown",
   "metadata": {},
   "source": [
    "## Analysis\n",
    "Note that the population growth indicator is given in terms of annual percentage, the population density is given considering the amount of people living in one square kilometer of land area and the poverty indicator in terms of population percentage living on less than $2.15 per person each day.\n",
    "\n",
    "### Qualitative Analysis\n",
    "Given the graphs, it is perceptible that the annual population growth percentage continously decreased between the years 2013 and 2022, while during the 2013 to 2020 period the population density linearly increased and from 2013 to 2021 the percentage of people living in poverty increased, this last indicator presenting an odd variation between 2019 and 2021.   \n",
    "\n",
    "### Quantitative Analysis\n",
    "Considering now the difference between the initial and final values for the indicators, it was determined that, during its respective studied periods, the population growth percentage decreased 0.41%, the population density increased 1.37 and the percentage of population living in poverty increased by 2.01%.\n",
    "Regarding the extreme values for each indicator during its respective selected periods, it was determined that the smallest percentage of population growth was 0.45% in 2022 and the greatest 0.57% in 2013, while the smallest population density was 24.13 in 2013 and the greatest 25.51 in 2020. Finally, regarding the minimum percentage of people living in poverty was 1.9% in 2020 and the maximum 5.8% in 2021.\n",
    "\n",
    "## Conclusions\n",
    "By means of numerically analyzing data of development indicators from Brazil, it became possible to determine that the in the last decade its population growth has decreased and the population density has increased. Therefore, although population growth has decreased, people are living in closer to each other.   \n",
    "On what concerns poverty, it was determined that although its behaviour has been mostly constant, it presented an odd oscillation between 2019 and 2021 and an overall increase corresponding to the whole studied period."
   ]
  }
 ],
 "metadata": {
  "kernelspec": {
   "display_name": "myenv",
   "language": "python",
   "name": "python3"
  },
  "language_info": {
   "codemirror_mode": {
    "name": "ipython",
    "version": 3
   },
   "file_extension": ".py",
   "mimetype": "text/x-python",
   "name": "python",
   "nbconvert_exporter": "python",
   "pygments_lexer": "ipython3",
   "version": "3.10.12"
  },
  "orig_nbformat": 4
 },
 "nbformat": 4,
 "nbformat_minor": 2
}
