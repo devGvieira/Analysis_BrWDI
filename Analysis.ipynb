{
 "cells": [
  {
   "cell_type": "code",
   "execution_count": 2,
   "metadata": {},
   "outputs": [],
   "source": [
    "import pandas as pd\n",
    "import matplotlib.pyplot as plt \n",
    "import plotly.graph_objects as go"
   ]
  },
  {
   "cell_type": "code",
   "execution_count": 3,
   "metadata": {},
   "outputs": [
    {
     "data": {
      "text/html": [
       "<div>\n",
       "<style scoped>\n",
       "    .dataframe tbody tr th:only-of-type {\n",
       "        vertical-align: middle;\n",
       "    }\n",
       "\n",
       "    .dataframe tbody tr th {\n",
       "        vertical-align: top;\n",
       "    }\n",
       "\n",
       "    .dataframe thead th {\n",
       "        text-align: right;\n",
       "    }\n",
       "</style>\n",
       "<table border=\"1\" class=\"dataframe\">\n",
       "  <thead>\n",
       "    <tr style=\"text-align: right;\">\n",
       "      <th></th>\n",
       "      <th>Years</th>\n",
       "      <th>Population, total</th>\n",
       "      <th>Population growth (annual %)</th>\n",
       "      <th>Surface area (sq. km)</th>\n",
       "      <th>Population density (people per sq. km of land area)</th>\n",
       "      <th>Poverty headcount ratio at $2.15 a day (2017 PPP) (% of population)</th>\n",
       "      <th>GNI, Atlas method (current US$)</th>\n",
       "      <th>GNI per capita, Atlas method (current US$)</th>\n",
       "      <th>GNI, PPP (current international $)</th>\n",
       "      <th>GNI per capita, PPP (current international $)</th>\n",
       "      <th>...</th>\n",
       "      <th>High-technology exports (% of manufactured exports)</th>\n",
       "      <th>Statistical Capacity Score (Overall Average) (scale 0 - 100)</th>\n",
       "      <th>Merchandise trade (% of GDP)</th>\n",
       "      <th>Net barter terms of trade index (2000 = 100)</th>\n",
       "      <th>External debt stocks, total (DOD, current US$)</th>\n",
       "      <th>Total debt service (% of exports of goods, services and primary income)</th>\n",
       "      <th>Net migration</th>\n",
       "      <th>Personal remittances, received (current US$)</th>\n",
       "      <th>Foreign direct investment, net inflows (BoP, current US$)</th>\n",
       "      <th>Net official development assistance and official aid received (current US$)</th>\n",
       "    </tr>\n",
       "  </thead>\n",
       "  <tbody>\n",
       "    <tr>\n",
       "      <th>3</th>\n",
       "      <td>2013</td>\n",
       "      <td>201721767</td>\n",
       "      <td>0.868346150167205</td>\n",
       "      <td>8515770</td>\n",
       "      <td>24.1347676636189</td>\n",
       "      <td>3.7</td>\n",
       "      <td>2571101638578.34</td>\n",
       "      <td>12750</td>\n",
       "      <td>3090347659210.83</td>\n",
       "      <td>15320</td>\n",
       "      <td>...</td>\n",
       "      <td>11.9697168242237</td>\n",
       "      <td>75.5555555555556</td>\n",
       "      <td>19.6062036475279</td>\n",
       "      <td>125.7597432</td>\n",
       "      <td>483734834011.9</td>\n",
       "      <td>28.0385332599247</td>\n",
       "      <td>35308</td>\n",
       "      <td>2717675068.66</td>\n",
       "      <td>75211029129.4</td>\n",
       "      <td>1155729980.46875</td>\n",
       "    </tr>\n",
       "    <tr>\n",
       "      <th>4</th>\n",
       "      <td>2014</td>\n",
       "      <td>203459650</td>\n",
       "      <td>0.857834828724811</td>\n",
       "      <td>8515770</td>\n",
       "      <td>24.3426946665167</td>\n",
       "      <td>3.3</td>\n",
       "      <td>2457007472638.13</td>\n",
       "      <td>12080</td>\n",
       "      <td>3127764536961.12</td>\n",
       "      <td>15370</td>\n",
       "      <td>...</td>\n",
       "      <td>12.3710552617293</td>\n",
       "      <td>75.5555555555556</td>\n",
       "      <td>18.7979549216251</td>\n",
       "      <td>121.4837064</td>\n",
       "      <td>556919631071.7</td>\n",
       "      <td>22.9117035902146</td>\n",
       "      <td>24940</td>\n",
       "      <td>2647908513.04</td>\n",
       "      <td>87713983217.24</td>\n",
       "      <td>914150024.414063</td>\n",
       "    </tr>\n",
       "    <tr>\n",
       "      <th>5</th>\n",
       "      <td>2015</td>\n",
       "      <td>205188205</td>\n",
       "      <td>0.845992601345206</td>\n",
       "      <td>8515770</td>\n",
       "      <td>24.5495056316357</td>\n",
       "      <td>3.9</td>\n",
       "      <td>2084246948540.23</td>\n",
       "      <td>10160</td>\n",
       "      <td>2958026429307.17</td>\n",
       "      <td>14420</td>\n",
       "      <td>...</td>\n",
       "      <td>14.485714883982</td>\n",
       "      <td>72.2222333333333</td>\n",
       "      <td>20.3772919107496</td>\n",
       "      <td>107.3474416</td>\n",
       "      <td>543397356309.8</td>\n",
       "      <td>39.762111539201</td>\n",
       "      <td>4764</td>\n",
       "      <td>2896909951.71</td>\n",
       "      <td>64738153494.44</td>\n",
       "      <td>1003190002.44141</td>\n",
       "    </tr>\n",
       "    <tr>\n",
       "      <th>6</th>\n",
       "      <td>2016</td>\n",
       "      <td>206859578</td>\n",
       "      <td>0.8112564782781</td>\n",
       "      <td>8515770</td>\n",
       "      <td>24.7494751224555</td>\n",
       "      <td>4.7</td>\n",
       "      <td>1839991635511.57</td>\n",
       "      <td>8890</td>\n",
       "      <td>2876740136507.09</td>\n",
       "      <td>13910</td>\n",
       "      <td>...</td>\n",
       "      <td>15.999958400192</td>\n",
       "      <td>76.6666666666667</td>\n",
       "      <td>18.0862737629592</td>\n",
       "      <td>109.9276522</td>\n",
       "      <td>543257228545.3</td>\n",
       "      <td>51.0110829785495</td>\n",
       "      <td>82589</td>\n",
       "      <td>2739786526.59</td>\n",
       "      <td>74294627801.19</td>\n",
       "      <td>674630004.882813</td>\n",
       "    </tr>\n",
       "    <tr>\n",
       "      <th>7</th>\n",
       "      <td>2017</td>\n",
       "      <td>208504960</td>\n",
       "      <td>0.79226340042227</td>\n",
       "      <td>8515770</td>\n",
       "      <td>24.9463349501205</td>\n",
       "      <td>5.3</td>\n",
       "      <td>1808496325064.57</td>\n",
       "      <td>8670</td>\n",
       "      <td>2962271099129.21</td>\n",
       "      <td>14210</td>\n",
       "      <td>...</td>\n",
       "      <td>14.3117190041583</td>\n",
       "      <td>74.4444333333333</td>\n",
       "      <td>18.4560353301167</td>\n",
       "      <td>116.2341709</td>\n",
       "      <td>543000326110.9</td>\n",
       "      <td>34.6166157924529</td>\n",
       "      <td>56362</td>\n",
       "      <td>2698770651.24</td>\n",
       "      <td>68885491315.23</td>\n",
       "      <td>273890014.648438</td>\n",
       "    </tr>\n",
       "  </tbody>\n",
       "</table>\n",
       "<p>5 rows × 53 columns</p>\n",
       "</div>"
      ],
      "text/plain": [
       "0 Years Population, total Population growth (annual %) Surface area (sq. km)  \\\n",
       "3  2013         201721767            0.868346150167205               8515770   \n",
       "4  2014         203459650            0.857834828724811               8515770   \n",
       "5  2015         205188205            0.845992601345206               8515770   \n",
       "6  2016         206859578              0.8112564782781               8515770   \n",
       "7  2017         208504960             0.79226340042227               8515770   \n",
       "\n",
       "0 Population density (people per sq. km of land area)  \\\n",
       "3                                   24.1347676636189    \n",
       "4                                   24.3426946665167    \n",
       "5                                   24.5495056316357    \n",
       "6                                   24.7494751224555    \n",
       "7                                   24.9463349501205    \n",
       "\n",
       "0 Poverty headcount ratio at $2.15 a day (2017 PPP) (% of population)  \\\n",
       "3                                                3.7                    \n",
       "4                                                3.3                    \n",
       "5                                                3.9                    \n",
       "6                                                4.7                    \n",
       "7                                                5.3                    \n",
       "\n",
       "0 GNI, Atlas method (current US$) GNI per capita, Atlas method (current US$)  \\\n",
       "3                2571101638578.34                                      12750   \n",
       "4                2457007472638.13                                      12080   \n",
       "5                2084246948540.23                                      10160   \n",
       "6                1839991635511.57                                       8890   \n",
       "7                1808496325064.57                                       8670   \n",
       "\n",
       "0 GNI, PPP (current international $)  \\\n",
       "3                   3090347659210.83   \n",
       "4                   3127764536961.12   \n",
       "5                   2958026429307.17   \n",
       "6                   2876740136507.09   \n",
       "7                   2962271099129.21   \n",
       "\n",
       "0 GNI per capita, PPP (current international $)  ...  \\\n",
       "3                                         15320  ...   \n",
       "4                                         15370  ...   \n",
       "5                                         14420  ...   \n",
       "6                                         13910  ...   \n",
       "7                                         14210  ...   \n",
       "\n",
       "0 High-technology exports (% of manufactured exports)  \\\n",
       "3                                   11.9697168242237    \n",
       "4                                   12.3710552617293    \n",
       "5                                    14.485714883982    \n",
       "6                                    15.999958400192    \n",
       "7                                   14.3117190041583    \n",
       "\n",
       "0 Statistical Capacity Score (Overall Average) (scale 0 - 100)  \\\n",
       "3                                   75.5555555555556             \n",
       "4                                   75.5555555555556             \n",
       "5                                   72.2222333333333             \n",
       "6                                   76.6666666666667             \n",
       "7                                   74.4444333333333             \n",
       "\n",
       "0 Merchandise trade (% of GDP) Net barter terms of trade index (2000 = 100)  \\\n",
       "3             19.6062036475279                                  125.7597432   \n",
       "4             18.7979549216251                                  121.4837064   \n",
       "5             20.3772919107496                                  107.3474416   \n",
       "6             18.0862737629592                                  109.9276522   \n",
       "7             18.4560353301167                                  116.2341709   \n",
       "\n",
       "0 External debt stocks, total (DOD, current US$)  \\\n",
       "3                                 483734834011.9   \n",
       "4                                 556919631071.7   \n",
       "5                                 543397356309.8   \n",
       "6                                 543257228545.3   \n",
       "7                                 543000326110.9   \n",
       "\n",
       "0 Total debt service (% of exports of goods, services and primary income)  \\\n",
       "3                                   28.0385332599247                        \n",
       "4                                   22.9117035902146                        \n",
       "5                                    39.762111539201                        \n",
       "6                                   51.0110829785495                        \n",
       "7                                   34.6166157924529                        \n",
       "\n",
       "0 Net migration Personal remittances, received (current US$)  \\\n",
       "3         35308                                2717675068.66   \n",
       "4         24940                                2647908513.04   \n",
       "5          4764                                2896909951.71   \n",
       "6         82589                                2739786526.59   \n",
       "7         56362                                2698770651.24   \n",
       "\n",
       "0 Foreign direct investment, net inflows (BoP, current US$)  \\\n",
       "3                                      75211029129.4          \n",
       "4                                     87713983217.24          \n",
       "5                                     64738153494.44          \n",
       "6                                     74294627801.19          \n",
       "7                                     68885491315.23          \n",
       "\n",
       "0 Net official development assistance and official aid received (current US$)  \n",
       "3                                   1155729980.46875                           \n",
       "4                                   914150024.414063                           \n",
       "5                                   1003190002.44141                           \n",
       "6                                   674630004.882813                           \n",
       "7                                   273890014.648438                           \n",
       "\n",
       "[5 rows x 53 columns]"
      ]
     },
     "execution_count": 3,
     "metadata": {},
     "output_type": "execute_result"
    }
   ],
   "source": [
    "df_original = pd.read_csv('Data_Wrangled.csv')\n",
    "\n",
    "header = df_original.iloc[0,:]\n",
    "\n",
    "df = df_original.iloc[3:,:]\n",
    "\n",
    "df.columns = header\n",
    "\n",
    "df = df.drop(0, axis=1)\n",
    "\n",
    "df.head()"
   ]
  },
  {
   "cell_type": "code",
   "execution_count": 4,
   "metadata": {},
   "outputs": [
    {
     "data": {
      "text/plain": [
       "Index(['Years', 'Population, total', 'Population growth (annual %)',\n",
       "       'Surface area (sq. km)',\n",
       "       'Population density (people per sq. km of land area)',\n",
       "       'Poverty headcount ratio at $2.15 a day (2017 PPP) (% of population)',\n",
       "       'GNI, Atlas method (current US$)',\n",
       "       'GNI per capita, Atlas method (current US$)',\n",
       "       'GNI, PPP (current international $)',\n",
       "       'GNI per capita, PPP (current international $)',\n",
       "       'Income share held by lowest 20%',\n",
       "       'Life expectancy at birth, total (years)',\n",
       "       'Fertility rate, total (births per woman)',\n",
       "       'Adolescent fertility rate (births per 1,000 women ages 15-19)',\n",
       "       'Contraceptive prevalence, any method (% of married women ages 15-49)',\n",
       "       'Births attended by skilled health staff (% of total)',\n",
       "       'Mortality rate, under-5 (per 1,000 live births)',\n",
       "       'Prevalence of underweight, weight for age (% of children under 5)',\n",
       "       'Immunization, measles (% of children ages 12-23 months)',\n",
       "       'School enrollment, primary (% gross)',\n",
       "       'School enrollment, secondary (% gross)',\n",
       "       'School enrollment, primary and secondary (gross), gender parity index (GPI)',\n",
       "       'Prevalence of HIV, total (% of population ages 15-49)',\n",
       "       'Forest area (sq. km)',\n",
       "       'Terrestrial and marine protected areas (% of total territorial area)',\n",
       "       'Annual freshwater withdrawals, total (% of internal resources)',\n",
       "       'Urban population growth (annual %)',\n",
       "       'Energy use (kg of oil equivalent per capita)',\n",
       "       'CO2 emissions (metric tons per capita)',\n",
       "       'Electric power consumption (kWh per capita)', 'GDP (current US$)',\n",
       "       'GDP growth (annual %)', 'Inflation, GDP deflator (annual %)',\n",
       "       'Agriculture, forestry, and fishing, value added (% of GDP)',\n",
       "       'Industry (including construction), value added (% of GDP)',\n",
       "       'Exports of goods and services (% of GDP)',\n",
       "       'Imports of goods and services (% of GDP)',\n",
       "       'Gross capital formation (% of GDP)',\n",
       "       'Revenue, excluding grants (% of GDP)',\n",
       "       'Time required to start a business (days)', 'Tax revenue (% of GDP)',\n",
       "       'Military expenditure (% of GDP)',\n",
       "       'Mobile cellular subscriptions (per 100 people)',\n",
       "       'High-technology exports (% of manufactured exports)',\n",
       "       'Statistical Capacity Score (Overall Average) (scale 0 - 100)',\n",
       "       'Merchandise trade (% of GDP)',\n",
       "       'Net barter terms of trade index (2000 = 100)',\n",
       "       'External debt stocks, total (DOD, current US$)',\n",
       "       'Total debt service (% of exports of goods, services and primary income)',\n",
       "       'Net migration', 'Personal remittances, received (current US$)',\n",
       "       'Foreign direct investment, net inflows (BoP, current US$)',\n",
       "       'Net official development assistance and official aid received (current US$)'],\n",
       "      dtype='object', name=0)"
      ]
     },
     "execution_count": 4,
     "metadata": {},
     "output_type": "execute_result"
    }
   ],
   "source": [
    "df.columns"
   ]
  },
  {
   "cell_type": "code",
   "execution_count": 5,
   "metadata": {},
   "outputs": [
    {
     "data": {
      "application/vnd.plotly.v1+json": {
       "config": {
        "plotlyServerURL": "https://plot.ly"
       },
       "data": [
        {
         "mode": "lines+markers",
         "name": "Population",
         "type": "scatter",
         "x": [
          "2014",
          "2015",
          "2016",
          "2017",
          "2018",
          "2019",
          "2020",
          "2021",
          "2022"
         ],
         "y": [
          "203459650",
          "205188205",
          "206859578",
          "208504960",
          "210166592",
          "211782878",
          "213196304",
          "214326223",
          "215313498"
         ]
        }
       ],
       "layout": {
        "template": {
         "data": {
          "bar": [
           {
            "error_x": {
             "color": "#2a3f5f"
            },
            "error_y": {
             "color": "#2a3f5f"
            },
            "marker": {
             "line": {
              "color": "#E5ECF6",
              "width": 0.5
             },
             "pattern": {
              "fillmode": "overlay",
              "size": 10,
              "solidity": 0.2
             }
            },
            "type": "bar"
           }
          ],
          "barpolar": [
           {
            "marker": {
             "line": {
              "color": "#E5ECF6",
              "width": 0.5
             },
             "pattern": {
              "fillmode": "overlay",
              "size": 10,
              "solidity": 0.2
             }
            },
            "type": "barpolar"
           }
          ],
          "carpet": [
           {
            "aaxis": {
             "endlinecolor": "#2a3f5f",
             "gridcolor": "white",
             "linecolor": "white",
             "minorgridcolor": "white",
             "startlinecolor": "#2a3f5f"
            },
            "baxis": {
             "endlinecolor": "#2a3f5f",
             "gridcolor": "white",
             "linecolor": "white",
             "minorgridcolor": "white",
             "startlinecolor": "#2a3f5f"
            },
            "type": "carpet"
           }
          ],
          "choropleth": [
           {
            "colorbar": {
             "outlinewidth": 0,
             "ticks": ""
            },
            "type": "choropleth"
           }
          ],
          "contour": [
           {
            "colorbar": {
             "outlinewidth": 0,
             "ticks": ""
            },
            "colorscale": [
             [
              0,
              "#0d0887"
             ],
             [
              0.1111111111111111,
              "#46039f"
             ],
             [
              0.2222222222222222,
              "#7201a8"
             ],
             [
              0.3333333333333333,
              "#9c179e"
             ],
             [
              0.4444444444444444,
              "#bd3786"
             ],
             [
              0.5555555555555556,
              "#d8576b"
             ],
             [
              0.6666666666666666,
              "#ed7953"
             ],
             [
              0.7777777777777778,
              "#fb9f3a"
             ],
             [
              0.8888888888888888,
              "#fdca26"
             ],
             [
              1,
              "#f0f921"
             ]
            ],
            "type": "contour"
           }
          ],
          "contourcarpet": [
           {
            "colorbar": {
             "outlinewidth": 0,
             "ticks": ""
            },
            "type": "contourcarpet"
           }
          ],
          "heatmap": [
           {
            "colorbar": {
             "outlinewidth": 0,
             "ticks": ""
            },
            "colorscale": [
             [
              0,
              "#0d0887"
             ],
             [
              0.1111111111111111,
              "#46039f"
             ],
             [
              0.2222222222222222,
              "#7201a8"
             ],
             [
              0.3333333333333333,
              "#9c179e"
             ],
             [
              0.4444444444444444,
              "#bd3786"
             ],
             [
              0.5555555555555556,
              "#d8576b"
             ],
             [
              0.6666666666666666,
              "#ed7953"
             ],
             [
              0.7777777777777778,
              "#fb9f3a"
             ],
             [
              0.8888888888888888,
              "#fdca26"
             ],
             [
              1,
              "#f0f921"
             ]
            ],
            "type": "heatmap"
           }
          ],
          "heatmapgl": [
           {
            "colorbar": {
             "outlinewidth": 0,
             "ticks": ""
            },
            "colorscale": [
             [
              0,
              "#0d0887"
             ],
             [
              0.1111111111111111,
              "#46039f"
             ],
             [
              0.2222222222222222,
              "#7201a8"
             ],
             [
              0.3333333333333333,
              "#9c179e"
             ],
             [
              0.4444444444444444,
              "#bd3786"
             ],
             [
              0.5555555555555556,
              "#d8576b"
             ],
             [
              0.6666666666666666,
              "#ed7953"
             ],
             [
              0.7777777777777778,
              "#fb9f3a"
             ],
             [
              0.8888888888888888,
              "#fdca26"
             ],
             [
              1,
              "#f0f921"
             ]
            ],
            "type": "heatmapgl"
           }
          ],
          "histogram": [
           {
            "marker": {
             "pattern": {
              "fillmode": "overlay",
              "size": 10,
              "solidity": 0.2
             }
            },
            "type": "histogram"
           }
          ],
          "histogram2d": [
           {
            "colorbar": {
             "outlinewidth": 0,
             "ticks": ""
            },
            "colorscale": [
             [
              0,
              "#0d0887"
             ],
             [
              0.1111111111111111,
              "#46039f"
             ],
             [
              0.2222222222222222,
              "#7201a8"
             ],
             [
              0.3333333333333333,
              "#9c179e"
             ],
             [
              0.4444444444444444,
              "#bd3786"
             ],
             [
              0.5555555555555556,
              "#d8576b"
             ],
             [
              0.6666666666666666,
              "#ed7953"
             ],
             [
              0.7777777777777778,
              "#fb9f3a"
             ],
             [
              0.8888888888888888,
              "#fdca26"
             ],
             [
              1,
              "#f0f921"
             ]
            ],
            "type": "histogram2d"
           }
          ],
          "histogram2dcontour": [
           {
            "colorbar": {
             "outlinewidth": 0,
             "ticks": ""
            },
            "colorscale": [
             [
              0,
              "#0d0887"
             ],
             [
              0.1111111111111111,
              "#46039f"
             ],
             [
              0.2222222222222222,
              "#7201a8"
             ],
             [
              0.3333333333333333,
              "#9c179e"
             ],
             [
              0.4444444444444444,
              "#bd3786"
             ],
             [
              0.5555555555555556,
              "#d8576b"
             ],
             [
              0.6666666666666666,
              "#ed7953"
             ],
             [
              0.7777777777777778,
              "#fb9f3a"
             ],
             [
              0.8888888888888888,
              "#fdca26"
             ],
             [
              1,
              "#f0f921"
             ]
            ],
            "type": "histogram2dcontour"
           }
          ],
          "mesh3d": [
           {
            "colorbar": {
             "outlinewidth": 0,
             "ticks": ""
            },
            "type": "mesh3d"
           }
          ],
          "parcoords": [
           {
            "line": {
             "colorbar": {
              "outlinewidth": 0,
              "ticks": ""
             }
            },
            "type": "parcoords"
           }
          ],
          "pie": [
           {
            "automargin": true,
            "type": "pie"
           }
          ],
          "scatter": [
           {
            "fillpattern": {
             "fillmode": "overlay",
             "size": 10,
             "solidity": 0.2
            },
            "type": "scatter"
           }
          ],
          "scatter3d": [
           {
            "line": {
             "colorbar": {
              "outlinewidth": 0,
              "ticks": ""
             }
            },
            "marker": {
             "colorbar": {
              "outlinewidth": 0,
              "ticks": ""
             }
            },
            "type": "scatter3d"
           }
          ],
          "scattercarpet": [
           {
            "marker": {
             "colorbar": {
              "outlinewidth": 0,
              "ticks": ""
             }
            },
            "type": "scattercarpet"
           }
          ],
          "scattergeo": [
           {
            "marker": {
             "colorbar": {
              "outlinewidth": 0,
              "ticks": ""
             }
            },
            "type": "scattergeo"
           }
          ],
          "scattergl": [
           {
            "marker": {
             "colorbar": {
              "outlinewidth": 0,
              "ticks": ""
             }
            },
            "type": "scattergl"
           }
          ],
          "scattermapbox": [
           {
            "marker": {
             "colorbar": {
              "outlinewidth": 0,
              "ticks": ""
             }
            },
            "type": "scattermapbox"
           }
          ],
          "scatterpolar": [
           {
            "marker": {
             "colorbar": {
              "outlinewidth": 0,
              "ticks": ""
             }
            },
            "type": "scatterpolar"
           }
          ],
          "scatterpolargl": [
           {
            "marker": {
             "colorbar": {
              "outlinewidth": 0,
              "ticks": ""
             }
            },
            "type": "scatterpolargl"
           }
          ],
          "scatterternary": [
           {
            "marker": {
             "colorbar": {
              "outlinewidth": 0,
              "ticks": ""
             }
            },
            "type": "scatterternary"
           }
          ],
          "surface": [
           {
            "colorbar": {
             "outlinewidth": 0,
             "ticks": ""
            },
            "colorscale": [
             [
              0,
              "#0d0887"
             ],
             [
              0.1111111111111111,
              "#46039f"
             ],
             [
              0.2222222222222222,
              "#7201a8"
             ],
             [
              0.3333333333333333,
              "#9c179e"
             ],
             [
              0.4444444444444444,
              "#bd3786"
             ],
             [
              0.5555555555555556,
              "#d8576b"
             ],
             [
              0.6666666666666666,
              "#ed7953"
             ],
             [
              0.7777777777777778,
              "#fb9f3a"
             ],
             [
              0.8888888888888888,
              "#fdca26"
             ],
             [
              1,
              "#f0f921"
             ]
            ],
            "type": "surface"
           }
          ],
          "table": [
           {
            "cells": {
             "fill": {
              "color": "#EBF0F8"
             },
             "line": {
              "color": "white"
             }
            },
            "header": {
             "fill": {
              "color": "#C8D4E3"
             },
             "line": {
              "color": "white"
             }
            },
            "type": "table"
           }
          ]
         },
         "layout": {
          "annotationdefaults": {
           "arrowcolor": "#2a3f5f",
           "arrowhead": 0,
           "arrowwidth": 1
          },
          "autotypenumbers": "strict",
          "coloraxis": {
           "colorbar": {
            "outlinewidth": 0,
            "ticks": ""
           }
          },
          "colorscale": {
           "diverging": [
            [
             0,
             "#8e0152"
            ],
            [
             0.1,
             "#c51b7d"
            ],
            [
             0.2,
             "#de77ae"
            ],
            [
             0.3,
             "#f1b6da"
            ],
            [
             0.4,
             "#fde0ef"
            ],
            [
             0.5,
             "#f7f7f7"
            ],
            [
             0.6,
             "#e6f5d0"
            ],
            [
             0.7,
             "#b8e186"
            ],
            [
             0.8,
             "#7fbc41"
            ],
            [
             0.9,
             "#4d9221"
            ],
            [
             1,
             "#276419"
            ]
           ],
           "sequential": [
            [
             0,
             "#0d0887"
            ],
            [
             0.1111111111111111,
             "#46039f"
            ],
            [
             0.2222222222222222,
             "#7201a8"
            ],
            [
             0.3333333333333333,
             "#9c179e"
            ],
            [
             0.4444444444444444,
             "#bd3786"
            ],
            [
             0.5555555555555556,
             "#d8576b"
            ],
            [
             0.6666666666666666,
             "#ed7953"
            ],
            [
             0.7777777777777778,
             "#fb9f3a"
            ],
            [
             0.8888888888888888,
             "#fdca26"
            ],
            [
             1,
             "#f0f921"
            ]
           ],
           "sequentialminus": [
            [
             0,
             "#0d0887"
            ],
            [
             0.1111111111111111,
             "#46039f"
            ],
            [
             0.2222222222222222,
             "#7201a8"
            ],
            [
             0.3333333333333333,
             "#9c179e"
            ],
            [
             0.4444444444444444,
             "#bd3786"
            ],
            [
             0.5555555555555556,
             "#d8576b"
            ],
            [
             0.6666666666666666,
             "#ed7953"
            ],
            [
             0.7777777777777778,
             "#fb9f3a"
            ],
            [
             0.8888888888888888,
             "#fdca26"
            ],
            [
             1,
             "#f0f921"
            ]
           ]
          },
          "colorway": [
           "#636efa",
           "#EF553B",
           "#00cc96",
           "#ab63fa",
           "#FFA15A",
           "#19d3f3",
           "#FF6692",
           "#B6E880",
           "#FF97FF",
           "#FECB52"
          ],
          "font": {
           "color": "#2a3f5f"
          },
          "geo": {
           "bgcolor": "white",
           "lakecolor": "white",
           "landcolor": "#E5ECF6",
           "showlakes": true,
           "showland": true,
           "subunitcolor": "white"
          },
          "hoverlabel": {
           "align": "left"
          },
          "hovermode": "closest",
          "mapbox": {
           "style": "light"
          },
          "paper_bgcolor": "white",
          "plot_bgcolor": "#E5ECF6",
          "polar": {
           "angularaxis": {
            "gridcolor": "white",
            "linecolor": "white",
            "ticks": ""
           },
           "bgcolor": "#E5ECF6",
           "radialaxis": {
            "gridcolor": "white",
            "linecolor": "white",
            "ticks": ""
           }
          },
          "scene": {
           "xaxis": {
            "backgroundcolor": "#E5ECF6",
            "gridcolor": "white",
            "gridwidth": 2,
            "linecolor": "white",
            "showbackground": true,
            "ticks": "",
            "zerolinecolor": "white"
           },
           "yaxis": {
            "backgroundcolor": "#E5ECF6",
            "gridcolor": "white",
            "gridwidth": 2,
            "linecolor": "white",
            "showbackground": true,
            "ticks": "",
            "zerolinecolor": "white"
           },
           "zaxis": {
            "backgroundcolor": "#E5ECF6",
            "gridcolor": "white",
            "gridwidth": 2,
            "linecolor": "white",
            "showbackground": true,
            "ticks": "",
            "zerolinecolor": "white"
           }
          },
          "shapedefaults": {
           "line": {
            "color": "#2a3f5f"
           }
          },
          "ternary": {
           "aaxis": {
            "gridcolor": "white",
            "linecolor": "white",
            "ticks": ""
           },
           "baxis": {
            "gridcolor": "white",
            "linecolor": "white",
            "ticks": ""
           },
           "bgcolor": "#E5ECF6",
           "caxis": {
            "gridcolor": "white",
            "linecolor": "white",
            "ticks": ""
           }
          },
          "title": {
           "x": 0.05
          },
          "xaxis": {
           "automargin": true,
           "gridcolor": "white",
           "linecolor": "white",
           "ticks": "",
           "title": {
            "standoff": 15
           },
           "zerolinecolor": "white",
           "zerolinewidth": 2
          },
          "yaxis": {
           "automargin": true,
           "gridcolor": "white",
           "linecolor": "white",
           "ticks": "",
           "title": {
            "standoff": 15
           },
           "zerolinecolor": "white",
           "zerolinewidth": 2
          }
         }
        },
        "title": {
         "text": "<b>Population Over the Years</b>"
        },
        "xaxis": {
         "gridcolor": "LightGray",
         "gridwidth": 1,
         "showgrid": true,
         "title": {
          "text": "<b>Year</b>"
         }
        },
        "yaxis": {
         "gridcolor": "LightGray",
         "gridwidth": 1,
         "showgrid": true,
         "title": {
          "text": "<b>Total Population</b>"
         }
        }
       }
      }
     },
     "metadata": {},
     "output_type": "display_data"
    }
   ],
   "source": [
    "population = go.Figure()\n",
    "\n",
    "population.add_trace(go.Scatter(x=df.iloc[1:,0], y=df.iloc[1:,1], mode='lines+markers', name='Population'))\n",
    "\n",
    "population.update_layout(\n",
    "    title='<b>Population Over the Years</b>', \n",
    "    xaxis_title='<b>Year</b>', \n",
    "    yaxis_title='<b>Total Population</b>', \n",
    "    xaxis=dict(showgrid=True, gridwidth=1, gridcolor='LightGray'),\n",
    "    yaxis=dict(showgrid=True, gridwidth=1, gridcolor='LightGray')\n",
    "    )\n",
    "\n",
    "population.show()"
   ]
  },
  {
   "cell_type": "code",
   "execution_count": 6,
   "metadata": {},
   "outputs": [
    {
     "data": {
      "application/vnd.plotly.v1+json": {
       "config": {
        "plotlyServerURL": "https://plot.ly"
       },
       "data": [
        {
         "mode": "lines+markers",
         "name": "Income share held by lowest 20%",
         "type": "scatter",
         "x": [
          "2014",
          "2015",
          "2016",
          "2017",
          "2018",
          "2019",
          "2020",
          "2021",
          "2022"
         ],
         "y": [
          "3.5",
          "3.6",
          "3.6",
          "3.3",
          "3.2",
          "3.1",
          "3.1",
          "4.5",
          "3.3",
          null
         ]
        }
       ],
       "layout": {
        "template": {
         "data": {
          "bar": [
           {
            "error_x": {
             "color": "#2a3f5f"
            },
            "error_y": {
             "color": "#2a3f5f"
            },
            "marker": {
             "line": {
              "color": "#E5ECF6",
              "width": 0.5
             },
             "pattern": {
              "fillmode": "overlay",
              "size": 10,
              "solidity": 0.2
             }
            },
            "type": "bar"
           }
          ],
          "barpolar": [
           {
            "marker": {
             "line": {
              "color": "#E5ECF6",
              "width": 0.5
             },
             "pattern": {
              "fillmode": "overlay",
              "size": 10,
              "solidity": 0.2
             }
            },
            "type": "barpolar"
           }
          ],
          "carpet": [
           {
            "aaxis": {
             "endlinecolor": "#2a3f5f",
             "gridcolor": "white",
             "linecolor": "white",
             "minorgridcolor": "white",
             "startlinecolor": "#2a3f5f"
            },
            "baxis": {
             "endlinecolor": "#2a3f5f",
             "gridcolor": "white",
             "linecolor": "white",
             "minorgridcolor": "white",
             "startlinecolor": "#2a3f5f"
            },
            "type": "carpet"
           }
          ],
          "choropleth": [
           {
            "colorbar": {
             "outlinewidth": 0,
             "ticks": ""
            },
            "type": "choropleth"
           }
          ],
          "contour": [
           {
            "colorbar": {
             "outlinewidth": 0,
             "ticks": ""
            },
            "colorscale": [
             [
              0,
              "#0d0887"
             ],
             [
              0.1111111111111111,
              "#46039f"
             ],
             [
              0.2222222222222222,
              "#7201a8"
             ],
             [
              0.3333333333333333,
              "#9c179e"
             ],
             [
              0.4444444444444444,
              "#bd3786"
             ],
             [
              0.5555555555555556,
              "#d8576b"
             ],
             [
              0.6666666666666666,
              "#ed7953"
             ],
             [
              0.7777777777777778,
              "#fb9f3a"
             ],
             [
              0.8888888888888888,
              "#fdca26"
             ],
             [
              1,
              "#f0f921"
             ]
            ],
            "type": "contour"
           }
          ],
          "contourcarpet": [
           {
            "colorbar": {
             "outlinewidth": 0,
             "ticks": ""
            },
            "type": "contourcarpet"
           }
          ],
          "heatmap": [
           {
            "colorbar": {
             "outlinewidth": 0,
             "ticks": ""
            },
            "colorscale": [
             [
              0,
              "#0d0887"
             ],
             [
              0.1111111111111111,
              "#46039f"
             ],
             [
              0.2222222222222222,
              "#7201a8"
             ],
             [
              0.3333333333333333,
              "#9c179e"
             ],
             [
              0.4444444444444444,
              "#bd3786"
             ],
             [
              0.5555555555555556,
              "#d8576b"
             ],
             [
              0.6666666666666666,
              "#ed7953"
             ],
             [
              0.7777777777777778,
              "#fb9f3a"
             ],
             [
              0.8888888888888888,
              "#fdca26"
             ],
             [
              1,
              "#f0f921"
             ]
            ],
            "type": "heatmap"
           }
          ],
          "heatmapgl": [
           {
            "colorbar": {
             "outlinewidth": 0,
             "ticks": ""
            },
            "colorscale": [
             [
              0,
              "#0d0887"
             ],
             [
              0.1111111111111111,
              "#46039f"
             ],
             [
              0.2222222222222222,
              "#7201a8"
             ],
             [
              0.3333333333333333,
              "#9c179e"
             ],
             [
              0.4444444444444444,
              "#bd3786"
             ],
             [
              0.5555555555555556,
              "#d8576b"
             ],
             [
              0.6666666666666666,
              "#ed7953"
             ],
             [
              0.7777777777777778,
              "#fb9f3a"
             ],
             [
              0.8888888888888888,
              "#fdca26"
             ],
             [
              1,
              "#f0f921"
             ]
            ],
            "type": "heatmapgl"
           }
          ],
          "histogram": [
           {
            "marker": {
             "pattern": {
              "fillmode": "overlay",
              "size": 10,
              "solidity": 0.2
             }
            },
            "type": "histogram"
           }
          ],
          "histogram2d": [
           {
            "colorbar": {
             "outlinewidth": 0,
             "ticks": ""
            },
            "colorscale": [
             [
              0,
              "#0d0887"
             ],
             [
              0.1111111111111111,
              "#46039f"
             ],
             [
              0.2222222222222222,
              "#7201a8"
             ],
             [
              0.3333333333333333,
              "#9c179e"
             ],
             [
              0.4444444444444444,
              "#bd3786"
             ],
             [
              0.5555555555555556,
              "#d8576b"
             ],
             [
              0.6666666666666666,
              "#ed7953"
             ],
             [
              0.7777777777777778,
              "#fb9f3a"
             ],
             [
              0.8888888888888888,
              "#fdca26"
             ],
             [
              1,
              "#f0f921"
             ]
            ],
            "type": "histogram2d"
           }
          ],
          "histogram2dcontour": [
           {
            "colorbar": {
             "outlinewidth": 0,
             "ticks": ""
            },
            "colorscale": [
             [
              0,
              "#0d0887"
             ],
             [
              0.1111111111111111,
              "#46039f"
             ],
             [
              0.2222222222222222,
              "#7201a8"
             ],
             [
              0.3333333333333333,
              "#9c179e"
             ],
             [
              0.4444444444444444,
              "#bd3786"
             ],
             [
              0.5555555555555556,
              "#d8576b"
             ],
             [
              0.6666666666666666,
              "#ed7953"
             ],
             [
              0.7777777777777778,
              "#fb9f3a"
             ],
             [
              0.8888888888888888,
              "#fdca26"
             ],
             [
              1,
              "#f0f921"
             ]
            ],
            "type": "histogram2dcontour"
           }
          ],
          "mesh3d": [
           {
            "colorbar": {
             "outlinewidth": 0,
             "ticks": ""
            },
            "type": "mesh3d"
           }
          ],
          "parcoords": [
           {
            "line": {
             "colorbar": {
              "outlinewidth": 0,
              "ticks": ""
             }
            },
            "type": "parcoords"
           }
          ],
          "pie": [
           {
            "automargin": true,
            "type": "pie"
           }
          ],
          "scatter": [
           {
            "fillpattern": {
             "fillmode": "overlay",
             "size": 10,
             "solidity": 0.2
            },
            "type": "scatter"
           }
          ],
          "scatter3d": [
           {
            "line": {
             "colorbar": {
              "outlinewidth": 0,
              "ticks": ""
             }
            },
            "marker": {
             "colorbar": {
              "outlinewidth": 0,
              "ticks": ""
             }
            },
            "type": "scatter3d"
           }
          ],
          "scattercarpet": [
           {
            "marker": {
             "colorbar": {
              "outlinewidth": 0,
              "ticks": ""
             }
            },
            "type": "scattercarpet"
           }
          ],
          "scattergeo": [
           {
            "marker": {
             "colorbar": {
              "outlinewidth": 0,
              "ticks": ""
             }
            },
            "type": "scattergeo"
           }
          ],
          "scattergl": [
           {
            "marker": {
             "colorbar": {
              "outlinewidth": 0,
              "ticks": ""
             }
            },
            "type": "scattergl"
           }
          ],
          "scattermapbox": [
           {
            "marker": {
             "colorbar": {
              "outlinewidth": 0,
              "ticks": ""
             }
            },
            "type": "scattermapbox"
           }
          ],
          "scatterpolar": [
           {
            "marker": {
             "colorbar": {
              "outlinewidth": 0,
              "ticks": ""
             }
            },
            "type": "scatterpolar"
           }
          ],
          "scatterpolargl": [
           {
            "marker": {
             "colorbar": {
              "outlinewidth": 0,
              "ticks": ""
             }
            },
            "type": "scatterpolargl"
           }
          ],
          "scatterternary": [
           {
            "marker": {
             "colorbar": {
              "outlinewidth": 0,
              "ticks": ""
             }
            },
            "type": "scatterternary"
           }
          ],
          "surface": [
           {
            "colorbar": {
             "outlinewidth": 0,
             "ticks": ""
            },
            "colorscale": [
             [
              0,
              "#0d0887"
             ],
             [
              0.1111111111111111,
              "#46039f"
             ],
             [
              0.2222222222222222,
              "#7201a8"
             ],
             [
              0.3333333333333333,
              "#9c179e"
             ],
             [
              0.4444444444444444,
              "#bd3786"
             ],
             [
              0.5555555555555556,
              "#d8576b"
             ],
             [
              0.6666666666666666,
              "#ed7953"
             ],
             [
              0.7777777777777778,
              "#fb9f3a"
             ],
             [
              0.8888888888888888,
              "#fdca26"
             ],
             [
              1,
              "#f0f921"
             ]
            ],
            "type": "surface"
           }
          ],
          "table": [
           {
            "cells": {
             "fill": {
              "color": "#EBF0F8"
             },
             "line": {
              "color": "white"
             }
            },
            "header": {
             "fill": {
              "color": "#C8D4E3"
             },
             "line": {
              "color": "white"
             }
            },
            "type": "table"
           }
          ]
         },
         "layout": {
          "annotationdefaults": {
           "arrowcolor": "#2a3f5f",
           "arrowhead": 0,
           "arrowwidth": 1
          },
          "autotypenumbers": "strict",
          "coloraxis": {
           "colorbar": {
            "outlinewidth": 0,
            "ticks": ""
           }
          },
          "colorscale": {
           "diverging": [
            [
             0,
             "#8e0152"
            ],
            [
             0.1,
             "#c51b7d"
            ],
            [
             0.2,
             "#de77ae"
            ],
            [
             0.3,
             "#f1b6da"
            ],
            [
             0.4,
             "#fde0ef"
            ],
            [
             0.5,
             "#f7f7f7"
            ],
            [
             0.6,
             "#e6f5d0"
            ],
            [
             0.7,
             "#b8e186"
            ],
            [
             0.8,
             "#7fbc41"
            ],
            [
             0.9,
             "#4d9221"
            ],
            [
             1,
             "#276419"
            ]
           ],
           "sequential": [
            [
             0,
             "#0d0887"
            ],
            [
             0.1111111111111111,
             "#46039f"
            ],
            [
             0.2222222222222222,
             "#7201a8"
            ],
            [
             0.3333333333333333,
             "#9c179e"
            ],
            [
             0.4444444444444444,
             "#bd3786"
            ],
            [
             0.5555555555555556,
             "#d8576b"
            ],
            [
             0.6666666666666666,
             "#ed7953"
            ],
            [
             0.7777777777777778,
             "#fb9f3a"
            ],
            [
             0.8888888888888888,
             "#fdca26"
            ],
            [
             1,
             "#f0f921"
            ]
           ],
           "sequentialminus": [
            [
             0,
             "#0d0887"
            ],
            [
             0.1111111111111111,
             "#46039f"
            ],
            [
             0.2222222222222222,
             "#7201a8"
            ],
            [
             0.3333333333333333,
             "#9c179e"
            ],
            [
             0.4444444444444444,
             "#bd3786"
            ],
            [
             0.5555555555555556,
             "#d8576b"
            ],
            [
             0.6666666666666666,
             "#ed7953"
            ],
            [
             0.7777777777777778,
             "#fb9f3a"
            ],
            [
             0.8888888888888888,
             "#fdca26"
            ],
            [
             1,
             "#f0f921"
            ]
           ]
          },
          "colorway": [
           "#636efa",
           "#EF553B",
           "#00cc96",
           "#ab63fa",
           "#FFA15A",
           "#19d3f3",
           "#FF6692",
           "#B6E880",
           "#FF97FF",
           "#FECB52"
          ],
          "font": {
           "color": "#2a3f5f"
          },
          "geo": {
           "bgcolor": "white",
           "lakecolor": "white",
           "landcolor": "#E5ECF6",
           "showlakes": true,
           "showland": true,
           "subunitcolor": "white"
          },
          "hoverlabel": {
           "align": "left"
          },
          "hovermode": "closest",
          "mapbox": {
           "style": "light"
          },
          "paper_bgcolor": "white",
          "plot_bgcolor": "#E5ECF6",
          "polar": {
           "angularaxis": {
            "gridcolor": "white",
            "linecolor": "white",
            "ticks": ""
           },
           "bgcolor": "#E5ECF6",
           "radialaxis": {
            "gridcolor": "white",
            "linecolor": "white",
            "ticks": ""
           }
          },
          "scene": {
           "xaxis": {
            "backgroundcolor": "#E5ECF6",
            "gridcolor": "white",
            "gridwidth": 2,
            "linecolor": "white",
            "showbackground": true,
            "ticks": "",
            "zerolinecolor": "white"
           },
           "yaxis": {
            "backgroundcolor": "#E5ECF6",
            "gridcolor": "white",
            "gridwidth": 2,
            "linecolor": "white",
            "showbackground": true,
            "ticks": "",
            "zerolinecolor": "white"
           },
           "zaxis": {
            "backgroundcolor": "#E5ECF6",
            "gridcolor": "white",
            "gridwidth": 2,
            "linecolor": "white",
            "showbackground": true,
            "ticks": "",
            "zerolinecolor": "white"
           }
          },
          "shapedefaults": {
           "line": {
            "color": "#2a3f5f"
           }
          },
          "ternary": {
           "aaxis": {
            "gridcolor": "white",
            "linecolor": "white",
            "ticks": ""
           },
           "baxis": {
            "gridcolor": "white",
            "linecolor": "white",
            "ticks": ""
           },
           "bgcolor": "#E5ECF6",
           "caxis": {
            "gridcolor": "white",
            "linecolor": "white",
            "ticks": ""
           }
          },
          "title": {
           "x": 0.05
          },
          "xaxis": {
           "automargin": true,
           "gridcolor": "white",
           "linecolor": "white",
           "ticks": "",
           "title": {
            "standoff": 15
           },
           "zerolinecolor": "white",
           "zerolinewidth": 2
          },
          "yaxis": {
           "automargin": true,
           "gridcolor": "white",
           "linecolor": "white",
           "ticks": "",
           "title": {
            "standoff": 15
           },
           "zerolinecolor": "white",
           "zerolinewidth": 2
          }
         }
        },
        "title": {
         "text": "<b>Income share held by lowest 20%</b>"
        },
        "xaxis": {
         "gridcolor": "LightGray",
         "gridwidth": 1,
         "showgrid": true,
         "title": {
          "text": "<b>Year</b>"
         }
        },
        "yaxis": {
         "gridcolor": "LightGray",
         "gridwidth": 1,
         "showgrid": true,
         "title": {
          "text": "<b>Share</b>"
         }
        }
       }
      }
     },
     "metadata": {},
     "output_type": "display_data"
    }
   ],
   "source": [
    "share = go.Figure()\n",
    "\n",
    "share.add_trace(go.Scatter(x=df.iloc[1:,0], y=df.loc[:,'Income share held by lowest 20%'], mode='lines+markers', name='Income share held by lowest 20%'))\n",
    "\n",
    "share.update_layout(\n",
    "    title='<b>Income share held by lowest 20%</b>', \n",
    "    xaxis_title='<b>Year</b>', \n",
    "    yaxis_title='<b>Share</b>', \n",
    "    xaxis=dict(showgrid=True, gridwidth=1, gridcolor='LightGray'),\n",
    "    yaxis=dict(showgrid=True, gridwidth=1, gridcolor='LightGray')\n",
    "    )\n",
    "\n",
    "share.show()"
   ]
  }
 ],
 "metadata": {
  "kernelspec": {
   "display_name": "Analysis_BrWDIvenv",
   "language": "python",
   "name": "python3"
  },
  "language_info": {
   "codemirror_mode": {
    "name": "ipython",
    "version": 3
   },
   "file_extension": ".py",
   "mimetype": "text/x-python",
   "name": "python",
   "nbconvert_exporter": "python",
   "pygments_lexer": "ipython3",
   "version": "3.11.6"
  }
 },
 "nbformat": 4,
 "nbformat_minor": 2
}
